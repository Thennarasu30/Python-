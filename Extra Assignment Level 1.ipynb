{
 "cells": [
  {
   "cell_type": "code",
   "execution_count": 1,
   "id": "98db8904-5159-418a-a088-40bc10c971bf",
   "metadata": {},
   "outputs": [
    {
     "name": "stdout",
     "output_type": "stream",
     "text": [
      "HOPE AI\n"
     ]
    }
   ],
   "source": [
    "print(\"HOPE AI\")"
   ]
  },
  {
   "cell_type": "code",
   "execution_count": 7,
   "id": "64190110-2a4c-43e8-bea0-9ec697c8786f",
   "metadata": {},
   "outputs": [
    {
     "name": "stdin",
     "output_type": "stream",
     "text": [
      "Enter your institute name ? :  HOPE Ai\n"
     ]
    }
   ],
   "source": [
    "instituteName = input(\"Enter your institute name ? : \")"
   ]
  },
  {
   "cell_type": "code",
   "execution_count": 11,
   "id": "49627782-012a-4461-bddd-fff8952487d1",
   "metadata": {},
   "outputs": [
    {
     "name": "stdin",
     "output_type": "stream",
     "text": [
      "Enter your name : Thennarasu V\n",
      "Enter your age : 21\n",
      "Enter your school name : Madras institute of technology\n",
      "Enter your degree : B.E Mechanical Engineering\n"
     ]
    }
   ],
   "source": [
    "Name = input(\"Enter your name :\")\n",
    "Age = int(input(\"Enter your age :\"))\n",
    "SchoolName = input(\"Enter your school name :\")\n",
    "Degree = input(\"Enter your degree :\")"
   ]
  },
  {
   "cell_type": "code",
   "execution_count": 15,
   "id": "373fc38c-3927-402a-84b0-0d0c0ffcaee4",
   "metadata": {},
   "outputs": [
    {
     "name": "stdout",
     "output_type": "stream",
     "text": [
      "a = 43\n",
      "b = 34\n",
      "Add = 77\n"
     ]
    }
   ],
   "source": [
    "#Addition\n",
    "a=43\n",
    "b=34\n",
    "print(\"a =\",a)\n",
    "print(\"b =\",b)\n",
    "print(\"Add =\",a+b)"
   ]
  },
  {
   "cell_type": "code",
   "execution_count": 19,
   "id": "c5c1a1f4-8f80-4333-9d94-d3678197760a",
   "metadata": {},
   "outputs": [
    {
     "name": "stdout",
     "output_type": "stream",
     "text": [
      "a = 43\n",
      "b = 34\n",
      "Sub = 9\n"
     ]
    }
   ],
   "source": [
    "#Subtraction\n",
    "print(\"a =\",a)\n",
    "print(\"b =\",b)\n",
    "print(\"Sub =\",a-b)"
   ]
  },
  {
   "cell_type": "code",
   "execution_count": 25,
   "id": "47980abe-7ee2-42f3-be8e-6f854015b5ca",
   "metadata": {},
   "outputs": [
    {
     "name": "stdout",
     "output_type": "stream",
     "text": [
      "a = 63\n",
      "b = 97\n",
      "Mul = 6111\n"
     ]
    }
   ],
   "source": [
    "#Multiplication\n",
    "a=63\n",
    "b=97\n",
    "print(\"a =\",a)\n",
    "print(\"b =\",b)\n",
    "print(\"Mul =\",a*b)"
   ]
  },
  {
   "cell_type": "code",
   "execution_count": 29,
   "id": "945b8eeb-73ec-491e-8fe3-7478a0d9ad49",
   "metadata": {},
   "outputs": [
    {
     "name": "stdout",
     "output_type": "stream",
     "text": [
      "a = 76\n",
      "b = 31\n",
      "Div = 2.4516129032258065\n"
     ]
    }
   ],
   "source": [
    "#Division\n",
    "a=76\n",
    "b=31\n",
    "print(\"a =\",a)\n",
    "print(\"b =\",b)\n",
    "print(\"Div =\",a/b)"
   ]
  },
  {
   "cell_type": "code",
   "execution_count": 31,
   "id": "18f9b4d5-dd2c-4ce7-bde8-03ed51508f48",
   "metadata": {},
   "outputs": [
    {
     "name": "stdout",
     "output_type": "stream",
     "text": [
      "a = 76\n",
      "b = 31\n",
      "Floor Div = 2\n"
     ]
    }
   ],
   "source": [
    "#Floor Division\n",
    "a=76\n",
    "b=31\n",
    "print(\"a =\",a)\n",
    "print(\"b =\",b)\n",
    "print(\"Floor Div =\",a//b)"
   ]
  },
  {
   "cell_type": "code",
   "execution_count": 33,
   "id": "a80d3972-0222-4284-a69e-f2a2edf06db7",
   "metadata": {},
   "outputs": [
    {
     "name": "stdout",
     "output_type": "stream",
     "text": [
      "a = 76\n",
      "b = 31\n",
      "Modulo = 14\n"
     ]
    }
   ],
   "source": [
    "#Modulo\n",
    "a=76\n",
    "b=31\n",
    "print(\"a =\",a)\n",
    "print(\"b =\",b)\n",
    "print(\"Modulo =\",a%b)"
   ]
  },
  {
   "cell_type": "code",
   "execution_count": 37,
   "id": "abafd97e-9b19-4cbb-8735-34cb151381a0",
   "metadata": {},
   "outputs": [
    {
     "name": "stdout",
     "output_type": "stream",
     "text": [
      "a = 4\n",
      "b = 4\n",
      "Power = 256\n"
     ]
    }
   ],
   "source": [
    "#Power\n",
    "a=4\n",
    "b=4\n",
    "print(\"a =\",a)\n",
    "print(\"b =\",b)\n",
    "print(\"Power =\",a**b)"
   ]
  },
  {
   "cell_type": "code",
   "execution_count": null,
   "id": "8d927199-a7a2-4862-8946-475bcbff609b",
   "metadata": {},
   "outputs": [],
   "source": []
  }
 ],
 "metadata": {
  "kernelspec": {
   "display_name": "Python [conda env:base] *",
   "language": "python",
   "name": "conda-base-py"
  },
  "language_info": {
   "codemirror_mode": {
    "name": "ipython",
    "version": 3
   },
   "file_extension": ".py",
   "mimetype": "text/x-python",
   "name": "python",
   "nbconvert_exporter": "python",
   "pygments_lexer": "ipython3",
   "version": "3.12.7"
  }
 },
 "nbformat": 4,
 "nbformat_minor": 5
}
