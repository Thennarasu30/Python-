{
 "cells": [
  {
   "cell_type": "code",
   "execution_count": null,
   "id": "93757adb-9660-4134-a113-37a472da8c1f",
   "metadata": {},
   "outputs": [],
   "source": [
    "1.Question"
   ]
  },
  {
   "cell_type": "code",
   "execution_count": 4,
   "id": "f53ccd75-0e5e-4313-89ba-d5aff6fc12a1",
   "metadata": {},
   "outputs": [
    {
     "name": "stdout",
     "output_type": "stream",
     "text": [
      "Welcome to Assignment\n"
     ]
    }
   ],
   "source": [
    "print(\"Welcome to Assignment\")"
   ]
  },
  {
   "cell_type": "code",
   "execution_count": null,
   "id": "ad38040f-401e-48d2-91f5-6a28f5275b2e",
   "metadata": {},
   "outputs": [],
   "source": [
    "2.Question"
   ]
  },
  {
   "cell_type": "code",
   "execution_count": 6,
   "id": "349ca199-3196-4169-90d3-7b25f0cb42a8",
   "metadata": {},
   "outputs": [
    {
     "name": "stdout",
     "output_type": "stream",
     "text": [
      "Num1 10\n",
      "Num2 30\n",
      "Add 40\n"
     ]
    }
   ],
   "source": [
    "Num1 = 10\n",
    "Num2 = 30\n",
    "print(\"Num1\",Num1)\n",
    "print(\"Num2\",Num2)\n",
    "Add = Num1 + Num2\n",
    "print(\"Add\",Add)\n"
   ]
  },
  {
   "cell_type": "code",
   "execution_count": null,
   "id": "a73bf2f7-1ea1-4c4b-8300-247b9db67504",
   "metadata": {},
   "outputs": [],
   "source": [
    "3.Question"
   ]
  },
  {
   "cell_type": "code",
   "execution_count": 15,
   "id": "dcbb961b-baad-45a9-a046-4f57f034ac98",
   "metadata": {},
   "outputs": [
    {
     "name": "stdin",
     "output_type": "stream",
     "text": [
      "Enter the BMI Index : 34\n"
     ]
    },
    {
     "name": "stdout",
     "output_type": "stream",
     "text": [
      "Very Overweight\n"
     ]
    }
   ],
   "source": [
    "Bmi=float(input(\"Enter the BMI Index :\"))\n",
    "\n",
    "if(Bmi<18.5):\n",
    "    print(\"Underweight\")\n",
    "    \n",
    "elif(Bmi >=18.5 and Bmi <24.9):\n",
    "    print(\"Normal\")\n",
    "    \n",
    "elif(Bmi >= 25.0 and Bmi <=29.0):\n",
    "    print(\"Overweight\")\n",
    "    \n",
    "elif(Bmi >= 30 and Bmi <40.0):\n",
    "    print(\"Very Overweight\")\n",
    "    \n",
    "else:\n",
    "    print(\"Extreme Obese\")"
   ]
  },
  {
   "cell_type": "code",
   "execution_count": null,
   "id": "68b85c2e-5be7-434c-8182-6671f16fa90e",
   "metadata": {},
   "outputs": [],
   "source": []
  }
 ],
 "metadata": {
  "kernelspec": {
   "display_name": "Python [conda env:base] *",
   "language": "python",
   "name": "conda-base-py"
  },
  "language_info": {
   "codemirror_mode": {
    "name": "ipython",
    "version": 3
   },
   "file_extension": ".py",
   "mimetype": "text/x-python",
   "name": "python",
   "nbconvert_exporter": "python",
   "pygments_lexer": "ipython3",
   "version": "3.12.7"
  }
 },
 "nbformat": 4,
 "nbformat_minor": 5
}
