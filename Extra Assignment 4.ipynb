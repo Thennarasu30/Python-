{
 "cells": [
  {
   "cell_type": "code",
   "execution_count": 18,
   "id": "c4eca763-3dad-479d-8b05-f9be91062719",
   "metadata": {},
   "outputs": [
    {
     "name": "stdout",
     "output_type": "stream",
     "text": [
      "Sub-fileds in AI are :\n",
      "Machine Learning\n",
      "Neural Networks\n",
      "Vision\n",
      "Robotic\n",
      "Speech Processing\n",
      "Natural Language Processing\n"
     ]
    }
   ],
   "source": [
    "# Create a class and function, and list out the items in the list\n",
    "class SubfieldsInAI:\n",
    "    def Subfields():\n",
    "        List= [\"Machine Learning\",\"Neural Networks\",\"Vision\",\"Robotic\",\"Speech Processing\",\"Natural Language Processing\"]\n",
    "        print(\"Sub-fileds in AI are :\")\n",
    "        for field in List:\n",
    "            print(field)\n",
    "SubfieldsInAI.Subfields()"
   ]
  },
  {
   "cell_type": "code",
   "execution_count": 20,
   "id": "15a17a3a-984c-43c8-96c6-1c83119081eb",
   "metadata": {},
   "outputs": [
    {
     "name": "stdin",
     "output_type": "stream",
     "text": [
      "Enter the Number 52452\n"
     ]
    },
    {
     "name": "stdout",
     "output_type": "stream",
     "text": [
      "52452 is Even Number\n"
     ]
    }
   ],
   "source": [
    "# Create a function that checks whether the given number is Odd or Even\n",
    "class OddEven:\n",
    "    def OddEven():\n",
    "        Number = int(input(\"Enter the Number\"))\n",
    "        if((Number%2)==0):\n",
    "            print(Number,\"is Even Number\")\n",
    "        else:\n",
    "            print(Number,\"is Odd Number\")\n",
    "OddEven.OddEven()"
   ]
  },
  {
   "cell_type": "code",
   "execution_count": 28,
   "id": "8d15d184-35dd-4a72-8c05-da1d1b0fdd48",
   "metadata": {},
   "outputs": [
    {
     "name": "stdin",
     "output_type": "stream",
     "text": [
      "Your Gender : Male\n",
      "Your Age 20\n"
     ]
    },
    {
     "name": "stdout",
     "output_type": "stream",
     "text": [
      "Not eligible\n"
     ]
    }
   ],
   "source": [
    "# Create a function that tells elegibility of marriage for male and female according to their age limit like 21 for male and 18 for female\n",
    "\n",
    "class ElegiblityForMarriage:\n",
    "    def Elegible():\n",
    "        Male=\"Male\"\n",
    "        Female=\"Female\"\n",
    "        Gender = input(\"Your Gender :\")\n",
    "        Age = int(input(\"Your Age\"))\n",
    "        if((Gender==Male and Age >= 21) or (Gender==Female and Age >=18)):\n",
    "            print(\"Eligible\")\n",
    "        else:\n",
    "            print(\"Not eligible\")\n",
    "ElegiblityForMarriage.Elegible()"
   ]
  },
  {
   "cell_type": "code",
   "execution_count": 32,
   "id": "0db8d529-8b80-4950-b6b4-4bdbabee2f77",
   "metadata": {},
   "outputs": [
    {
     "name": "stdin",
     "output_type": "stream",
     "text": [
      "Subject1 98\n",
      "Subject2 87\n",
      "Subject3 95\n",
      "Subject4 95\n",
      "Subject5 93\n"
     ]
    },
    {
     "name": "stdout",
     "output_type": "stream",
     "text": [
      "Total : 468\n",
      "Percentage 93.6\n"
     ]
    }
   ],
   "source": [
    "# calculate the percentage of your 10th mark\n",
    "\n",
    "class FindPercent:\n",
    "    def percentage():\n",
    "        Subject1=int(input(\"Subject1\"))\n",
    "        Subject2=int(input(\"Subject2\"))\n",
    "        Subject3=int(input(\"Subject3\"))\n",
    "        Subject4=int(input(\"Subject4\"))\n",
    "        Subject5=int(input(\"Subject5\"))\n",
    "        Total = Subject1 + Subject2 + Subject3 + Subject4 + Subject5\n",
    "        print(\"Total :\",Total)\n",
    "        Percentage = Total/5\n",
    "        print(\"Percentage\",Percentage)\n",
    "FindPercent.percentage()"
   ]
  },
  {
   "cell_type": "code",
   "execution_count": 34,
   "id": "a455ffcd-8b8a-41f3-b312-10ec65ff6b4a",
   "metadata": {},
   "outputs": [
    {
     "name": "stdin",
     "output_type": "stream",
     "text": [
      "Height 32\n",
      "Breadth 34\n"
     ]
    },
    {
     "name": "stdout",
     "output_type": "stream",
     "text": [
      "Area Formlua = (Height * Breadth)/2\n",
      "Area of Triangle: 544.0\n"
     ]
    },
    {
     "name": "stdin",
     "output_type": "stream",
     "text": [
      "Height1 2\n",
      "Height2 4\n",
      "Breadth 4\n"
     ]
    },
    {
     "name": "stdout",
     "output_type": "stream",
     "text": [
      "Perimeter formula: Height1+Height2+Breadth\n",
      "Perimeter of Triangle: 10\n"
     ]
    }
   ],
   "source": [
    "#print area and perimeter of triangle using class and functions\n",
    "class triangle:\n",
    "    def triangle():\n",
    "        Height = int(input(\"Height\"))\n",
    "        Breadth = int(input(\"Breadth\"))\n",
    "        AreaFormula = (Height * Breadth)/2\n",
    "        print(\"Area Formlua = (Height * Breadth)/2\")\n",
    "        print(\"Area of Triangle:\",AreaFormula)\n",
    "        Height1 = int(input(\"Height1\"))\n",
    "        Height2 = int(input(\"Height2\"))\n",
    "        Breadth = int(input(\"Breadth\"))\n",
    "        print(\"Perimeter formula: Height1+Height2+Breadth\")\n",
    "        print(\"Perimeter of Triangle:\",(Height1+Height2+Breadth))\n",
    "\n",
    "triangle.triangle()\n",
    "        \n",
    "        "
   ]
  },
  {
   "cell_type": "code",
   "execution_count": null,
   "id": "f0ae6d66-85d1-4c61-896b-6a2dc8cb298d",
   "metadata": {},
   "outputs": [],
   "source": []
  }
 ],
 "metadata": {
  "kernelspec": {
   "display_name": "Python [conda env:base] *",
   "language": "python",
   "name": "conda-base-py"
  },
  "language_info": {
   "codemirror_mode": {
    "name": "ipython",
    "version": 3
   },
   "file_extension": ".py",
   "mimetype": "text/x-python",
   "name": "python",
   "nbconvert_exporter": "python",
   "pygments_lexer": "ipython3",
   "version": "3.12.7"
  }
 },
 "nbformat": 4,
 "nbformat_minor": 5
}
