{
 "cells": [
  {
   "cell_type": "code",
   "execution_count": 3,
   "id": "2a8c7862-8d26-40f7-b10c-1df3e6665c77",
   "metadata": {},
   "outputs": [],
   "source": [
    "from ClassFile import ClassFile"
   ]
  },
  {
   "cell_type": "code",
   "execution_count": 5,
   "id": "91866103-f905-45c2-9853-8e7daaa9e079",
   "metadata": {},
   "outputs": [
    {
     "name": "stdout",
     "output_type": "stream",
     "text": [
      "Subfields in AI are:\n",
      "Machine Learning\n",
      "Neural Networks\n",
      "Vision\n",
      "Robotics\n",
      "Speech Processing\n",
      "Natural Language Processing\n"
     ]
    }
   ],
   "source": [
    "ClassFile.Subfields()"
   ]
  },
  {
   "cell_type": "code",
   "execution_count": 7,
   "id": "4f1fdacc-9b4b-4b27-8236-0f5874a58ea4",
   "metadata": {},
   "outputs": [
    {
     "name": "stdin",
     "output_type": "stream",
     "text": [
      "Enter the Number:  25\n"
     ]
    },
    {
     "name": "stdout",
     "output_type": "stream",
     "text": [
      "25 is an Odd Number\n"
     ]
    }
   ],
   "source": [
    "ClassFile.OddEven()"
   ]
  },
  {
   "cell_type": "code",
   "execution_count": 9,
   "id": "b07611db-cb85-4acd-a5a1-6252af4a4603",
   "metadata": {},
   "outputs": [
    {
     "name": "stdin",
     "output_type": "stream",
     "text": [
      "Your Gender:  Male\n",
      "Your Age:  26\n"
     ]
    },
    {
     "name": "stdout",
     "output_type": "stream",
     "text": [
      "Eligible\n"
     ]
    }
   ],
   "source": [
    "ClassFile.Eligible()"
   ]
  },
  {
   "cell_type": "code",
   "execution_count": 11,
   "id": "4733b249-6270-4162-b585-efbfa885cf1c",
   "metadata": {},
   "outputs": [
    {
     "name": "stdin",
     "output_type": "stream",
     "text": [
      "Subject1:  89\n",
      "Subject2:  90\n",
      "Subject3:  98\n",
      "Subject4:  100\n",
      "Subject5:  95\n"
     ]
    },
    {
     "name": "stdout",
     "output_type": "stream",
     "text": [
      "Total: 472\n",
      "Percentage: 94.4\n"
     ]
    }
   ],
   "source": [
    "ClassFile.Percentage()"
   ]
  },
  {
   "cell_type": "code",
   "execution_count": 15,
   "id": "f7a73621-30a8-45b4-8e96-d907b0cd025e",
   "metadata": {},
   "outputs": [
    {
     "name": "stdin",
     "output_type": "stream",
     "text": [
      "Height:  40\n",
      "Breadth:  20\n"
     ]
    },
    {
     "name": "stdout",
     "output_type": "stream",
     "text": [
      "Area Formula = (Height * Breadth) / 2\n",
      "Area of Triangle: 400.0\n"
     ]
    },
    {
     "name": "stdin",
     "output_type": "stream",
     "text": [
      "Height1:  10\n",
      "Height2:  2\n",
      "Breadth:  3\n"
     ]
    },
    {
     "name": "stdout",
     "output_type": "stream",
     "text": [
      "Perimeter formula: Height1 + Height2 + Breadth\n",
      "Perimeter of Triangle: 15\n"
     ]
    }
   ],
   "source": [
    "ClassFile.Triangle()"
   ]
  },
  {
   "cell_type": "code",
   "execution_count": null,
   "id": "4ea21ab1-bf7f-40d7-82a4-d4735dbfa426",
   "metadata": {},
   "outputs": [],
   "source": []
  }
 ],
 "metadata": {
  "kernelspec": {
   "display_name": "Python [conda env:base] *",
   "language": "python",
   "name": "conda-base-py"
  },
  "language_info": {
   "codemirror_mode": {
    "name": "ipython",
    "version": 3
   },
   "file_extension": ".py",
   "mimetype": "text/x-python",
   "name": "python",
   "nbconvert_exporter": "python",
   "pygments_lexer": "ipython3",
   "version": "3.12.7"
  }
 },
 "nbformat": 4,
 "nbformat_minor": 5
}
