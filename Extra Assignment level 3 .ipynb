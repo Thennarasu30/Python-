{
 "cells": [
  {
   "cell_type": "code",
   "execution_count": 1,
   "id": "c7db8625-c30f-4004-8cb5-bb774fbc8e7c",
   "metadata": {},
   "outputs": [
    {
     "name": "stdout",
     "output_type": "stream",
     "text": [
      "Value : 10\n",
      "CORRECT\n"
     ]
    }
   ],
   "source": [
    "# print CORRECt if i==10\n",
    "\n",
    "Value= 10\n",
    "print(\"Value :\",Value)\n",
    "if(Value==10):\n",
    "    print(\"CORRECT\")"
   ]
  },
  {
   "cell_type": "code",
   "execution_count": 5,
   "id": "71059ed4-ecc2-4bf3-bfb1-43bf2b2add06",
   "metadata": {},
   "outputs": [
    {
     "name": "stdin",
     "output_type": "stream",
     "text": [
      "Enter the password : HOPE@123\n"
     ]
    },
    {
     "name": "stdout",
     "output_type": "stream",
     "text": [
      "Your password is correct\n"
     ]
    }
   ],
   "source": [
    "# Check the password, using if and else\n",
    "Correct_password=\"HOPE@123\"\n",
    "Password = input(\"Enter the password :\")\n",
    "if(Password==Correct_password):\n",
    "    print(\"Your password is correct\")\n",
    "else:\n",
    "    print(\"Your password is not correct\")"
   ]
  },
  {
   "cell_type": "code",
   "execution_count": 13,
   "id": "0cfa8dff-306e-4e74-b05e-f46cf0a35b2d",
   "metadata": {},
   "outputs": [
    {
     "name": "stdin",
     "output_type": "stream",
     "text": [
      "Enter the Age : 59\n"
     ]
    },
    {
     "name": "stdout",
     "output_type": "stream",
     "text": [
      "Senior Citizen\n"
     ]
    }
   ],
   "source": [
    "# Catagory the people by their age like children, adult, citizen, senior citizen...\n",
    "\n",
    "Age =int (input(\"Enter the Age :\"))\n",
    "\n",
    "if (Age <18):\n",
    "    print(\"Children\")\n",
    "elif(Age>=18 and Age<34):\n",
    "    print(\"Adult\")\n",
    "elif(Age >=34 and Age <59):\n",
    "    print(\"Citizen\")\n",
    "else:\n",
    "    print(\"Senior Citizen\")"
   ]
  },
  {
   "cell_type": "code",
   "execution_count": 19,
   "id": "e007212d-883c-4912-bb87-e0dd634b1b8e",
   "metadata": {},
   "outputs": [
    {
     "name": "stdin",
     "output_type": "stream",
     "text": [
      "Enter the number : 0\n"
     ]
    },
    {
     "name": "stdout",
     "output_type": "stream",
     "text": [
      "Number is zero\n"
     ]
    }
   ],
   "source": [
    "# Find whether given number is positive or negative\n",
    "\n",
    "Number = int (input(\"Enter the number :\"))\n",
    "\n",
    "if(Number>0):\n",
    "    print(\"Number is poistive\")\n",
    "elif(Number <0):\n",
    "    print(\"Number is negative\")\n",
    "else:\n",
    "    print(\"Number is zero\")"
   ]
  },
  {
   "cell_type": "code",
   "execution_count": 23,
   "id": "5dab6488-c81a-4a83-affb-0af0ea456436",
   "metadata": {},
   "outputs": [
    {
     "name": "stdin",
     "output_type": "stream",
     "text": [
      "Enter the Number : 22\n"
     ]
    },
    {
     "name": "stdout",
     "output_type": "stream",
     "text": [
      "Number is not Divisible by 5\n"
     ]
    }
   ],
   "source": [
    "# Check whether the given number is divisible by 5\n",
    "\n",
    "Number = int(input(\"Enter the Number :\"))\n",
    "if(Number % 5==0):\n",
    "    print(\"Number is Divisible by 5\")\n",
    "else:\n",
    "    print(\"Number is not Divisible by 5\")\n",
    "\n"
   ]
  },
  {
   "cell_type": "code",
   "execution_count": null,
   "id": "cfd321c4-b2a7-4ad5-b0dc-3cbc6029a540",
   "metadata": {},
   "outputs": [],
   "source": []
  }
 ],
 "metadata": {
  "kernelspec": {
   "display_name": "Python [conda env:base] *",
   "language": "python",
   "name": "conda-base-py"
  },
  "language_info": {
   "codemirror_mode": {
    "name": "ipython",
    "version": 3
   },
   "file_extension": ".py",
   "mimetype": "text/x-python",
   "name": "python",
   "nbconvert_exporter": "python",
   "pygments_lexer": "ipython3",
   "version": "3.12.7"
  }
 },
 "nbformat": 4,
 "nbformat_minor": 5
}
